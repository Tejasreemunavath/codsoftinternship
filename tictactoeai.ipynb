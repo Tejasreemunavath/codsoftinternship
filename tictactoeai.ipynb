{
  "nbformat": 4,
  "nbformat_minor": 0,
  "metadata": {
    "colab": {
      "provenance": [],
      "authorship_tag": "ABX9TyPoggpMlrSmhPE3DPSH5Do8",
      "include_colab_link": true
    },
    "kernelspec": {
      "name": "python3",
      "display_name": "Python 3"
    },
    "language_info": {
      "name": "python"
    }
  },
  "cells": [
    {
      "cell_type": "markdown",
      "metadata": {
        "id": "view-in-github",
        "colab_type": "text"
      },
      "source": [
        "<a href=\"https://colab.research.google.com/github/Tejasreemunavath/codsoftinternship/blob/project2/tictactoeai.ipynb\" target=\"_parent\"><img src=\"https://colab.research.google.com/assets/colab-badge.svg\" alt=\"Open In Colab\"/></a>"
      ]
    },
    {
      "cell_type": "markdown",
      "source": [
        "First starting the game by creating a board\n",
        "==>for this we are using numpy"
      ],
      "metadata": {
        "id": "SyX8Ea2ZMPN9"
      }
    },
    {
      "cell_type": "code",
      "source": [
        "import numpy as np\n",
        "\n",
        "# Define the Tic-Tac-Toe board size (standard is 3x3)\n",
        "BOARD_SIZE = 3\n",
        "\n",
        "# Define player symbols\n",
        "PLAYER_X = 'X'\n",
        "PLAYER_O = 'O'\n",
        "EMPTY = ' '\n",
        "\n",
        "# Function to create the initial Tic-Tac-Toe board\n",
        "def create_board():\n",
        "    return np.full((3, 3), EMPTY)"
      ],
      "metadata": {
        "id": "YXkqV2mcMY9H"
      },
      "execution_count": 15,
      "outputs": []
    },
    {
      "cell_type": "markdown",
      "source": [
        "display the board with following function"
      ],
      "metadata": {
        "id": "31uycAuqMl8G"
      }
    },
    {
      "cell_type": "code",
      "source": [
        "def display_board(board):\n",
        "    for row in board:\n",
        "        print(\" | \".join(row))\n",
        "        print(\"-\" * 9)"
      ],
      "metadata": {
        "id": "jxhjTvJaMrKu"
      },
      "execution_count": 16,
      "outputs": []
    },
    {
      "cell_type": "markdown",
      "source": [
        "Implementing the game logic, including functions to check for a win, check for a tie, and handle player moves."
      ],
      "metadata": {
        "id": "v8W9zP3NM4Wd"
      }
    },
    {
      "cell_type": "code",
      "source": [
        "# Function to check if a player has won\n",
        "def check_win(board, player):\n",
        "    return any(np.all(board == player, axis=0)) or \\\n",
        "           any(np.all(board == player, axis=1)) or \\\n",
        "           np.all(np.diag(board) == player) or \\\n",
        "           np.all(np.diag(np.fliplr(board)) == player)\n",
        "\n",
        "# Function to check if the game is a tie\n",
        "def check_tie(board):\n",
        "    return not (EMPTY in board)\n",
        "\n",
        "# Function for a player to make a move\n",
        "def player_move(board, row, col, player):\n",
        "    if board[row][col] == EMPTY:\n",
        "        board[row][col] = player\n",
        "        return True\n",
        "    return False"
      ],
      "metadata": {
        "id": "xIg8AK-YMvHm"
      },
      "execution_count": 17,
      "outputs": []
    },
    {
      "cell_type": "markdown",
      "source": [
        "Creating a function to implement the Minimax algorithm for the AI player.\n",
        "Implementing the Minimax algorithm using a recursive function.\n",
        "The function should take parameters for the current game state,\n",
        "the depth of the search, and a boolean indicating whether it's the maximizing player's turn.\n",
        "In the function, check if the game is over (win, loss, or tie). If so, return the corresponding score.\n",
        "If the game is not over, recursively call the function on all possible moves (empty cells).\n",
        "For each move, calculate a score and return the maximum or minimum score based on whether it's the maximizing or minimizing player's turn.\n",
        "Use depth to limit the search depth and avoid infinite recursion"
      ],
      "metadata": {
        "id": "XThHjDLnNGRH"
      }
    },
    {
      "cell_type": "code",
      "source": [
        "def minimax(board, depth, maximizing_player):\n",
        "    if check_win(board, PLAYER_X):\n",
        "        return -1\n",
        "    if check_win(board, PLAYER_O):\n",
        "        return 1\n",
        "    if check_tie(board):\n",
        "        return 0\n",
        "\n",
        "    if maximizing_player:\n",
        "        max_eval = -np.inf\n",
        "        for i in range(3):\n",
        "            for j in range(3):\n",
        "                if board[i][j] == EMPTY:\n",
        "                    board[i][j] = PLAYER_O\n",
        "                    eval = minimax(board, depth + 1, False)\n",
        "                    board[i][j] = EMPTY\n",
        "                    max_eval = max(max_eval, eval)\n",
        "        return max_eval\n",
        "    else:\n",
        "        min_eval = np.inf\n",
        "        for i in range(3):\n",
        "            for j in range(3):\n",
        "                if board[i][j] == EMPTY:\n",
        "                    board[i][j] = PLAYER_X\n",
        "                    eval = minimax(board, depth + 1, True)\n",
        "                    board[i][j] = EMPTY\n",
        "                    min_eval = min(min_eval, eval)\n",
        "        return min_eval\n",
        "\n",
        "\n",
        "\n",
        "\n",
        "\n"
      ],
      "metadata": {
        "id": "2VCqUqnKOOAI"
      },
      "execution_count": 18,
      "outputs": []
    },
    {
      "cell_type": "markdown",
      "source": [
        "Implementing a function that uses the Minimax algorithm to find the AI's best move."
      ],
      "metadata": {
        "id": "v09HIXrMOuW-"
      }
    },
    {
      "cell_type": "code",
      "source": [
        "# Function to find the AI's best move\n",
        "def ai_move(board):\n",
        "    best_move = None\n",
        "    best_eval = -np.inf\n",
        "    for i in range(3):\n",
        "        for j in range(3):\n",
        "            if board[i][j] == EMPTY:\n",
        "                board[i][j] = PLAYER_O\n",
        "                eval = minimax(board, 0, False)\n",
        "                board[i][j] = EMPTY\n",
        "                if eval > best_eval:\n",
        "                    best_eval = eval\n",
        "                    best_move = (i, j)\n",
        "    return best_move"
      ],
      "metadata": {
        "id": "2ylOMOzUO47y"
      },
      "execution_count": 19,
      "outputs": []
    },
    {
      "cell_type": "markdown",
      "source": [
        "Creating a loop to play the game between the human player and the AI."
      ],
      "metadata": {
        "id": "Gr6GFbWYPCVo"
      }
    },
    {
      "cell_type": "code",
      "source": [
        "# Main game loop\n",
        "def play_game():\n",
        "    board = create_board()\n",
        "    current_player = PLAYER_X\n",
        "\n",
        "    while True:\n",
        "        display_board(board)\n",
        "\n",
        "        if current_player == PLAYER_X:\n",
        "            while True:\n",
        "                try:\n",
        "                    row = int(input(\"Enter row (0, 1, or 2): \"))\n",
        "                    col = int(input(\"Enter column (0, 1, or 2): \"))\n",
        "                    if 0 <= row <= 2 and 0 <= col <= 2 and board[row][col] == EMPTY:\n",
        "                        break\n",
        "                    else:\n",
        "                        print(\"Invalid move. Try again.\")\n",
        "                except ValueError:\n",
        "                    print(\"Invalid input. Enter numbers for row and column.\")\n",
        "\n",
        "            player_move(board, row, col, current_player)\n",
        "        else:\n",
        "            print(\"AI is making a move...\")\n",
        "            row, col = ai_move(board)\n",
        "            player_move(board, row, col, current_player)\n",
        "\n",
        "        if check_win(board, current_player):\n",
        "            display_board(board)\n",
        "            print(f\"{current_player} wins!\")\n",
        "            break\n",
        "        elif check_tie(board):\n",
        "            display_board(board)\n",
        "            print(\"It's a tie!\")\n",
        "            break\n",
        "\n",
        "        current_player = PLAYER_X if current_player == PLAYER_O else PLAYER_O"
      ],
      "metadata": {
        "id": "mnHBVibcPBAs"
      },
      "execution_count": 20,
      "outputs": []
    },
    {
      "cell_type": "markdown",
      "source": [
        "Starting Game..."
      ],
      "metadata": {
        "id": "RFjlZinqPh2P"
      }
    },
    {
      "cell_type": "code",
      "source": [
        "if __name__ == \"__main__\":\n",
        "    play_game()"
      ],
      "metadata": {
        "colab": {
          "base_uri": "https://localhost:8080/"
        },
        "id": "EYU2XgyhPlQv",
        "outputId": "f0307091-90a8-486d-c421-08ec2705c542"
      },
      "execution_count": 21,
      "outputs": [
        {
          "output_type": "stream",
          "name": "stdout",
          "text": [
            "  |   |  \n",
            "---------\n",
            "  |   |  \n",
            "---------\n",
            "  |   |  \n",
            "---------\n",
            "Enter row (0, 1, or 2): 0\n",
            "Enter column (0, 1, or 2): 2\n",
            "  |   | X\n",
            "---------\n",
            "  |   |  \n",
            "---------\n",
            "  |   |  \n",
            "---------\n",
            "AI is making a move...\n",
            "  |   | X\n",
            "---------\n",
            "  | O |  \n",
            "---------\n",
            "  |   |  \n",
            "---------\n",
            "Enter row (0, 1, or 2): 0\n",
            "Enter column (0, 1, or 2): 1\n",
            "  | X | X\n",
            "---------\n",
            "  | O |  \n",
            "---------\n",
            "  |   |  \n",
            "---------\n",
            "AI is making a move...\n",
            "O | X | X\n",
            "---------\n",
            "  | O |  \n",
            "---------\n",
            "  |   |  \n",
            "---------\n",
            "Enter row (0, 1, or 2): 2\n",
            "Enter column (0, 1, or 2): 2\n",
            "O | X | X\n",
            "---------\n",
            "  | O |  \n",
            "---------\n",
            "  |   | X\n",
            "---------\n",
            "AI is making a move...\n",
            "O | X | X\n",
            "---------\n",
            "  | O | O\n",
            "---------\n",
            "  |   | X\n",
            "---------\n",
            "Enter row (0, 1, or 2): 1\n",
            "Enter column (0, 1, or 2): 0\n",
            "O | X | X\n",
            "---------\n",
            "X | O | O\n",
            "---------\n",
            "  |   | X\n",
            "---------\n",
            "AI is making a move...\n",
            "O | X | X\n",
            "---------\n",
            "X | O | O\n",
            "---------\n",
            "O |   | X\n",
            "---------\n",
            "Enter row (0, 1, or 2): 2\n",
            "Enter column (0, 1, or 2): 1\n",
            "O | X | X\n",
            "---------\n",
            "X | O | O\n",
            "---------\n",
            "O | X | X\n",
            "---------\n",
            "It's a tie!\n"
          ]
        }
      ]
    }
  ]
}