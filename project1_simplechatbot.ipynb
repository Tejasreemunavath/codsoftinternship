{
  "cells": [
    {
      "cell_type": "code",
      "execution_count": 3,
      "metadata": {
        "id": "JU25tu-us0ek"
      },
      "outputs": [
        {
          "ename": "ModuleNotFoundError",
          "evalue": "No module named 'numpy'",
          "output_type": "error",
          "traceback": [
            "\u001b[1;31m---------------------------------------------------------------------------\u001b[0m",
            "\u001b[1;31mModuleNotFoundError\u001b[0m                       Traceback (most recent call last)",
            "Cell \u001b[1;32mIn[3], line 1\u001b[0m\n\u001b[1;32m----> 1\u001b[0m \u001b[38;5;28;01mimport\u001b[39;00m \u001b[38;5;21;01mnumpy\u001b[39;00m \u001b[38;5;28;01mas\u001b[39;00m \u001b[38;5;21;01mnp\u001b[39;00m \u001b[38;5;66;03m##used for numerical computations\u001b[39;00m\n\u001b[0;32m      2\u001b[0m \u001b[38;5;28;01mimport\u001b[39;00m \u001b[38;5;21;01mnltk\u001b[39;00m \u001b[38;5;66;03m##library for NLp\u001b[39;00m\n\u001b[0;32m      3\u001b[0m \u001b[38;5;28;01mimport\u001b[39;00m \u001b[38;5;21;01mstring\u001b[39;00m \u001b[38;5;66;03m## process and handle strings in python\u001b[39;00m\n",
            "\u001b[1;31mModuleNotFoundError\u001b[0m: No module named 'numpy'"
          ]
        }
      ],
      "source": [
        "import numpy as np ##used for numerical computations\n",
        "import nltk ##library for NLp\n",
        "import string ## process and handle strings in python\n",
        "import random ##generates random responses."
      ]
    },
    {
      "cell_type": "code",
      "execution_count": null,
      "metadata": {
        "colab": {
          "base_uri": "https://localhost:8080/"
        },
        "id": "eYqMCBf4uW3h",
        "outputId": "a61ff36a-3aee-43a5-a3d6-f75126db980b"
      },
      "outputs": [
        {
          "name": "stderr",
          "output_type": "stream",
          "text": [
            "[nltk_data] Downloading package punkt to /root/nltk_data...\n",
            "[nltk_data]   Package punkt is already up-to-date!\n",
            "[nltk_data] Downloading package wordnet to /root/nltk_data...\n",
            "[nltk_data]   Package wordnet is already up-to-date!\n"
          ]
        }
      ],
      "source": [
        "f=open('chatbot.txt','r',errors ='ignore')\n",
        "raw_doc=f.read()\n",
        "raw_doc=raw_doc.lower()\n",
        "nltk.download('punkt')#This tokenizer divides a text into a list of sentences by using an unsupervised algorithm\n",
        "nltk.download('wordnet')#arge lexical database of words, senses, and their semantic relations.\n",
        "sent_tokens = nltk.sent_tokenize(raw_doc)#coverts doc to sentences\n",
        "word_tokens =nltk.word_tokenize(raw_doc)#converts doc to words."
      ]
    },
    {
      "cell_type": "markdown",
      "metadata": {
        "id": "sEzYbaMmzIJt"
      },
      "source": [
        "EXAMPLE OF SENTENCE TOKENS"
      ]
    },
    {
      "cell_type": "code",
      "execution_count": null,
      "metadata": {
        "colab": {
          "base_uri": "https://localhost:8080/"
        },
        "id": "MG9UK2PfzFGe",
        "outputId": "ec377cc9-bbc3-4886-858a-209493dcebd3"
      },
      "outputs": [
        {
          "data": {
            "text/plain": [
              "['freedom fighters in india\\n\\n\\n\\nindia gained independence from british rule on august 15, 1947, a significant day that occurred almost 75 years ago.',\n",
              " 'it was the result of a number of movements and conflicts that raged all through the period of british administration, including the famous uprising of 1857. many revolutionary indian freedom fighters, including mahatma gandhi, jawaharlal nehru, chandra shekhar azad, rani lakshmi bai of jhansi, and others, took the initiative in organising the campaign that resulted in india’s independence, which was attained thanks to their efforts.']"
            ]
          },
          "execution_count": 24,
          "metadata": {},
          "output_type": "execute_result"
        }
      ],
      "source": [
        "sent_tokens[:2]"
      ]
    },
    {
      "cell_type": "markdown",
      "metadata": {
        "id": "VwDY3ZbmzbAW"
      },
      "source": [
        "EXAMPLE OF WORD TOKENS"
      ]
    },
    {
      "cell_type": "code",
      "execution_count": null,
      "metadata": {
        "colab": {
          "base_uri": "https://localhost:8080/"
        },
        "id": "i-vQ2psBzgbl",
        "outputId": "708c27c5-971f-41cd-9532-cd147ecf19f4"
      },
      "outputs": [
        {
          "data": {
            "text/plain": [
              "['freedom', 'fighters']"
            ]
          },
          "execution_count": 25,
          "metadata": {},
          "output_type": "execute_result"
        }
      ],
      "source": [
        "word_tokens[:2]"
      ]
    },
    {
      "cell_type": "markdown",
      "metadata": {
        "id": "JHCAzYtUzuEm"
      },
      "source": [
        "Text preprocessing"
      ]
    },
    {
      "cell_type": "code",
      "execution_count": null,
      "metadata": {
        "id": "1FL5_AFOzyHu"
      },
      "outputs": [],
      "source": [
        "lemmer = nltk.stem.WordNetLemmatizer()\n",
        "##Lemmatization is the process of reducing a word to its base or dictionary form, known as the lemma\n",
        "def LemTokens(tokens):\n",
        "  return [lemmer.lemmatize(token) for token in tokens]\n",
        "remove_punct_dict = dict((ord(punct),None) for punct in string.punctuation)\n",
        "def LemNormalize(text):\n",
        "  return LemTokens(nltk.word_tokenize(text.lower().translate(remove_punct_dict)))\n",
        "\n"
      ]
    },
    {
      "cell_type": "markdown",
      "metadata": {
        "id": "yOQzjzNFfcri"
      },
      "source": [
        "Defining the greeting function"
      ]
    },
    {
      "cell_type": "code",
      "execution_count": null,
      "metadata": {
        "id": "tm8XWAFTfY_7"
      },
      "outputs": [],
      "source": [
        "GREET_INPUTS= (\"Hello\",\" Hi\",\"Greetings\",\"Whats new?\",\"How are you doing\",\"Hey\")\n",
        "GREET_RESPONSE=[\"Hello\",\"Hey\",\"Thanks\",\"hi there\",\"i brought info about freedom fighters\",\"hello\",\"Im good and hoping the same\",\"IM glad that you are talking to me\"]\n",
        "def greet(sentence):\n",
        "\n",
        "    for word in sentence.split():\n",
        "      if word.lower() in GREET_INPUTS:\n",
        "        return random.choice(GREET_RESPONSE)"
      ]
    },
    {
      "cell_type": "markdown",
      "metadata": {
        "id": "5_6cr87xiDU5"
      },
      "source": [
        "RESPONSE GENERATION"
      ]
    },
    {
      "cell_type": "code",
      "execution_count": null,
      "metadata": {
        "id": "JiV7BJteiJUu"
      },
      "outputs": [],
      "source": [
        "from sklearn.feature_extraction.text import TfidfVectorizer\n",
        "from sklearn.metrics.pairwise import cosine_similarity"
      ]
    },
    {
      "cell_type": "code",
      "execution_count": null,
      "metadata": {
        "id": "E0aYYYxui6sr"
      },
      "outputs": [],
      "source": [
        "def response(user_response):\n",
        "  robo1_response=''\n",
        "  TfidfVec=TfidfVectorizer(tokenizer=LemNormalize, stop_words='english')\n",
        "  tfidf=TfidfVec.fit_transform(sent_tokens)\n",
        "  vals= cosine_similarity(tfidf[-1],tfidf)\n",
        "  idx=vals.argsort()[0][-2]\n",
        "  flat=vals.flatten()\n",
        "  flat.sort()\n",
        "  req_tfidf=flat[-2]\n",
        "  if(req_tfidf==0):\n",
        "    robo1_response=robo1_response+\"I am Sorry! I dont understand you\"\n",
        "    return robo1_response\n",
        "  else:\n",
        "    robo1_response=robo1_response+sent_tokens[idx]\n",
        "    return robo1_response"
      ]
    },
    {
      "cell_type": "code",
      "execution_count": null,
      "metadata": {
        "colab": {
          "base_uri": "https://localhost:8080/"
        },
        "id": "FW1otQE5lIwq",
        "outputId": "5d2bd0d2-d72e-4c05-f2cc-188b5d7c45f1"
      },
      "outputs": [
        {
          "name": "stdout",
          "output_type": "stream",
          "text": [
            "BOT:Hey my name is SAHA. let's start a conversation! Also, if you want to exit any time, just type Bye!\n",
            "hii\n",
            "BOT:  hii\n",
            "who is mahatma gandhi\n",
            "BOT:  1. mahatma gandhi\n",
            "the immense sacrifices that mohandas karamchand gandhi made for india earned him the title of “father of the nation”; he was born on october 2, 1869. along with inspiring numerous other independence movements and human rights movements around the world, he not only helped lead india to independence but also played a significant role in its victory.\n",
            "jawaharlal nehru\n",
            "BOT:  kamala nehru\n",
            "kamala nehru, jawaharlal nehru’s wife, was active in the freedom movement\n",
            "she helped to organise parades, picket liquor and foreign clothing stores, and organise the united provinces no tax campaign.\n",
            "thanks\n",
            "Bot:you are welcome..\n"
          ]
        }
      ],
      "source": [
        "flag=True\n",
        "print(\"BOT:Hey my name is SAHA. let's start a conversation! Also, if you want to exit any time, just type Bye!\")\n",
        "while(flag==True):\n",
        "  user_response = input()\n",
        "  user_response=user_response.lower()\n",
        "  if(user_response!='bye'):\n",
        "    if(user_response=='thanks'or user_response=='thankyou'):\n",
        "      flag=False\n",
        "      print(\"Bot:you are welcome..\")\n",
        "    else:\n",
        "       if(greet(user_response)!=None):\n",
        "        print(\"BOT:\"+greet(user_response))\n",
        "       else:\n",
        "        sent_tokens.append(user_response)\n",
        "        word_tokens=word_tokens+nltk.word_tokenize(user_response)\n",
        "        final_words=list(set(word_tokens))\n",
        "        print(\"BOT: \",end =\" \")\n",
        "        print(response(user_response))\n",
        "        sent_tokens.remove(user_response)\n",
        "  else:\n",
        "    flag=False\n",
        "    print(\"BOT:Goodbye! Take care :)\")\n",
        "\n"
      ]
    }
  ],
  "metadata": {
    "colab": {
      "provenance": []
    },
    "kernelspec": {
      "display_name": "Python 3.10.3 64-bit",
      "language": "python",
      "name": "python3"
    },
    "language_info": {
      "codemirror_mode": {
        "name": "ipython",
        "version": 3
      },
      "file_extension": ".py",
      "mimetype": "text/x-python",
      "name": "python",
      "nbconvert_exporter": "python",
      "pygments_lexer": "ipython3",
      "version": "3.10.3"
    },
    "vscode": {
      "interpreter": {
        "hash": "aa0f74a93f97d15b00a23ce1d94b772aa46e63da110c53c32d7d55279c239eb2"
      }
    }
  },
  "nbformat": 4,
  "nbformat_minor": 0
}
